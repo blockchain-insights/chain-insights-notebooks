{
 "cells": [
  {
   "cell_type": "code",
   "id": "e4710e635ca6d558",
   "metadata": {
    "ExecuteTime": {
     "end_time": "2024-11-23T07:25:59.287476Z",
     "start_time": "2024-11-23T07:25:58.618678Z"
    }
   },
   "source": [
    "from src.block_timestamps_ui import get_block_timestamps_ui\n",
    " \n",
    "# Configuration\n",
    "network = \"bitcoin\"\n",
    "page_size = 10\n",
    "start_page = 1\n",
    "table_width = \"80%\"\n",
    "\n",
    "block_timestamp_ui = get_block_timestamps_ui(network, page_size, start_page, table_width)\n",
    "block_timestamp_ui.render_ui()\n"
   ],
   "outputs": [
    {
     "data": {
      "text/plain": [
       "VBox(children=(HBox(children=(Button(description='Previous Page', disabled=True, style=ButtonStyle()), Button(…"
      ],
      "application/vnd.jupyter.widget-view+json": {
       "version_major": 2,
       "version_minor": 0,
       "model_id": "238b8d506fa4487b801b63537b6dae62"
      }
     },
     "metadata": {},
     "output_type": "display_data"
    }
   ],
   "execution_count": 1
  },
  {
   "cell_type": "markdown",
   "id": "55b3ead7a393d778",
   "metadata": {},
   "source": []
  },
  {
   "cell_type": "code",
   "id": "e387c597-ef87-45aa-9589-059e479e24bd",
   "metadata": {
    "ExecuteTime": {
     "end_time": "2024-11-23T07:17:33.312951Z",
     "start_time": "2024-11-22T23:10:31.948647Z"
    }
   },
   "source": [],
   "outputs": [],
   "execution_count": null
  },
  {
   "cell_type": "code",
   "id": "51e94461-f142-497e-b8ad-0ac9652da059",
   "metadata": {
    "ExecuteTime": {
     "end_time": "2024-11-23T07:17:33.313951Z",
     "start_time": "2024-11-22T23:10:31.996078Z"
    }
   },
   "source": [],
   "outputs": [],
   "execution_count": null
  }
 ],
 "metadata": {
  "kernelspec": {
   "display_name": "Python 3 (ipykernel)",
   "language": "python",
   "name": "python3"
  },
  "language_info": {
   "codemirror_mode": {
    "name": "ipython",
    "version": 3
   },
   "file_extension": ".py",
   "mimetype": "text/x-python",
   "name": "python",
   "nbconvert_exporter": "python",
   "pygments_lexer": "ipython3",
   "version": "3.10.12"
  }
 },
 "nbformat": 4,
 "nbformat_minor": 5
}
